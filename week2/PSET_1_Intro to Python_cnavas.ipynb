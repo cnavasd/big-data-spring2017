{
 "cells": [
  {
   "cell_type": "markdown",
   "metadata": {},
   "source": [
    "# Problem Set 1: Intro to Python\n",
    "This problem set is meant to create a good foundation of programming. We emphasize code readability and reusability over performance. Code performance can be measured in many different ways, and is by no means the focus of this course, however, we expect your code to be non-repetitive, clean, and efficient enough to deal with medium-to-large datasets. As we move forward with the course, you will be introduced to some functional programming techniques, iterators, and objects that will help speed-up the data munging of the type of data sets that we will be dealing with. \n",
    "\n",
    "`Throughout the course you will be using multiple online resources to help you solve the assignments, we do too. However, if you are using other people’s code, make sure to credit the source, and come up with your own implementation. In this problem set, you are welcome to refer to online resources and documentation. One of the primary ones you will find you use is:` [Stack Overflow]( http://stackoverflow.com/)."
   ]
  },
  {
   "cell_type": "markdown",
   "metadata": {},
   "source": [
    "## 1. Lists\n",
    "Do the following:\n",
    "1. Create a list containing any 4 strings.\n",
    "2. Print the 3rd item in the list\n",
    "3. Print the 1st and 2nd item in the list using [:] index slicing.\n",
    "4. Add a new string with text “last” to the end of the list and print the list.\n",
    "5. Get the list length and print it.\n",
    "6. Replace the last item in the list with the string “new” and print\n"
   ]
  },
  {
   "cell_type": "code",
   "execution_count": 1,
   "metadata": {
    "collapsed": false
   },
   "outputs": [
    {
     "name": "stdout",
     "output_type": "stream",
     "text": [
      "te\n",
      "['hola', 'como']\n",
      "['hola', 'como', 'te', 'va', 'last']\n",
      "5\n",
      "['hola', 'como', 'te', 'va', 'new']\n"
     ]
    }
   ],
   "source": [
    "#1) Create a list containing any 4 strings.\n",
    "a= ['hola', 'como', 'te', 'va']\n",
    "#2) Print the 3rd item in the list\n",
    "print (a[2]);\n",
    "#3) Print the 1st and 2nd item in the list using [:] index slicing.\n",
    "print (a[:2])\n",
    "#4) Add a new string with text “last” to the end of the list and print the list.\n",
    "a.append('last')\n",
    "print (a)\n",
    "#5) Get the list length and print it.\n",
    "b=len(a)\n",
    "print (b)\n",
    "#Replace the last item in the list with the string “new” and print\n",
    "a[b-1]='new'\n",
    "print (a)\n"
   ]
  },
  {
   "cell_type": "markdown",
   "metadata": {},
   "source": [
    "## 2. Strings \n",
    "Given the following list of words:\n",
    "```Python\n",
    "list1=['I', 'am', 'learning','Python','to','munge','large','datasets','and','visualize','them']\n",
    "```\n",
    "1. Convert the list into a normal sentence with [`join()`](https://docs.python.org/3/library/stdtypes.html#str.join), then print.\n",
    "2. [**Reverse**](https://docs.python.org/3.6/tutorial/datastructures.html) the order of this list `[“them”,”visualize”,…]`\n",
    "3. Now [**sort**](https://docs.python.org/3/library/functions.html#sorted) the list using the default sort order in python\n",
    "4. Modify the sort to do a case [**insensitive**](http://matthiaseisen.com/pp/patterns/p0005/) alphabetic sort\n",
    "5. Now print the list in reverse alphabetic sort order\n"
   ]
  },
  {
   "cell_type": "code",
   "execution_count": 2,
   "metadata": {
    "collapsed": false
   },
   "outputs": [
    {
     "name": "stdout",
     "output_type": "stream",
     "text": [
      "I am learning Python to munge large datasets and visualize them\n",
      "['them', 'visualize', 'and', 'datasets', 'large', 'munge', 'to', 'Python', 'learning', 'am', 'I']\n",
      "['them', 'visualize', 'and', 'datasets', 'large', 'munge', 'to', 'Python', 'learning', 'am', 'I']\n",
      "['I', 'Python', 'am', 'and', 'datasets', 'large', 'learning', 'munge', 'them', 'to', 'visualize']\n",
      "['am', 'and', 'datasets', 'I', 'large', 'learning', 'munge', 'Python', 'them', 'to', 'visualize']\n",
      "['visualize', 'to', 'them', 'Python', 'munge', 'learning', 'large', 'I', 'datasets', 'and', 'am']\n"
     ]
    }
   ],
   "source": [
    "#2. Strings\n",
    "#Given the following list of words:\n",
    "list1=['I', 'am', 'learning','Python','to','munge','large','datasets','and','visualize','them']\n",
    "#2. Strings\n",
    "#Given the following list of words:\n",
    "list1=['I', 'am', 'learning','Python','to','munge','large','datasets','and','visualize','them']\n",
    "\n",
    "#Convert the list into a normal sentence with join(), then print.\n",
    "x=(' ')\n",
    "s=x.join(list1)\n",
    "print (s)\n",
    "\n",
    "#Reverse the order of this list [“them”,”visualize”,…] v1\n",
    "a=list1\n",
    "b=a[::-1]\n",
    "print (b)\n",
    "#Reverse the order of this list [“them”,”visualize”,…] v2\n",
    "c = list(reversed(a))\n",
    "print (c)\n",
    "\n",
    "#Now sort the list using the default sort order in python\n",
    "r=sorted(a)\n",
    "print (r)\n",
    "\n",
    "#Modify the sort to do a case insensitive alphabetic sort\n",
    "d=a\n",
    "d.sort(key=lambda s: s.lower())\n",
    "print(d)\n",
    "\n",
    "#Now print the list in reverse alphabetic sort order\n",
    "e = list(reversed(d))\n",
    "print (e)\n"
   ]
  },
  {
   "cell_type": "markdown",
   "metadata": {},
   "source": [
    "## 3. Random Function\n",
    "Here is a python snippet for generating a random integer:\n",
    "\n",
    "```Python\n",
    "import random\n",
    "# this returns random integer: 100 <= number <= 1000 \n",
    "num = random.randint(100, 1000)\n",
    "```\n",
    "\n",
    "* Implement your own random function that builds on this python function, returning an integer between a low and a high number supplied by the user, but that can be called with the low number optional (default to 0).\n",
    "\n",
    "* Test your function by adding the following 2 assert statements to your file (replace myrandom and low with the names you used). The [`assert`](https://docs.python.org/3/reference/simple_stmts.html#assert) statement helps you debug, by testing if a statement is true. \n",
    "\n",
    "```Python\n",
    "assert(0 <= myrandom(100) <= 100)\n",
    "assert(50 <= myrandom(100,low=50) <= 100)\n",
    "```\n",
    "\n",
    "\n",
    "1. Inputs: \n",
    "  1. Two `integers` that will be used as lower and upper bounds of the function. \n",
    "2. Outputs: \n",
    "  1. A random number within the established bounds. "
   ]
  },
  {
   "cell_type": "code",
   "execution_count": 4,
   "metadata": {
    "collapsed": false
   },
   "outputs": [
    {
     "name": "stdout",
     "output_type": "stream",
     "text": [
      "63\n"
     ]
    }
   ],
   "source": [
    "#3. Random Function¶\n",
    "\n",
    "import random\n",
    "def MyRandom (mnum, lnum=50): \n",
    "    rnum = random.randint(lnum, mnum)   \n",
    "    return(rnum)\n",
    "print (MyRandom (100))\n",
    "assert(0 <= MyRandom(100) <= 100)\n",
    "assert(50 <= MyRandom(100,lnum=50) <= 100)\n"
   ]
  },
  {
   "cell_type": "markdown",
   "metadata": {},
   "source": [
    "## 4. String Formatting Function \n",
    "Write a function that expects 2 inputs from the command line. The first is a title that may be multiple words, the second is a number. Given these inputs print the following string (replacing N and Title with the dynamic values passed in to the script each time it runs).\n",
    "\n",
    "`The number N bestseller today is: Title` \n",
    "\n",
    "* If not already title-cased, the function should **title-case** the string. \n",
    "* Build one function making the first input optional (keeping the 2nd required).\n",
    "* Build another function making the second input optional (keeping the 1st required).\n",
    "* Build a third function making both inputs optional.\n"
   ]
  },
  {
   "cell_type": "code",
   "execution_count": 58,
   "metadata": {
    "collapsed": false
   },
   "outputs": [
    {
     "name": "stdout",
     "output_type": "stream",
     "text": [
      "insert the number: 4\n",
      "The number 4 bestseller today is: Sharks\n",
      "insert the title: Hola\n",
      "The number 2 bestseller today is: Hola\n",
      "insert the title: hols como te va\n",
      "insert the number: 5\n",
      "The number 5 bestseller today is: Hols Como Te Va\n"
     ]
    }
   ],
   "source": [
    "\n",
    "def Sfun_1(num,tit='Sharks'):\n",
    "    #tit=input('insert the title: ')\n",
    "    num=input('insert the number: ')\n",
    "    tit=str.title(tit)\n",
    "    final='The number '+ num + ' bestseller today is: '+ tit\n",
    "    return(final)\n",
    "print (Sfun_1(2))\n",
    "\n",
    "def Sfun_2(tit, num='2'):\n",
    "    tit=input('insert the title: ')\n",
    "    #num=input('insert the number: ')\n",
    "    tit=str.title(tit)\n",
    "    final='The number '+ num + ' bestseller today is: '+ tit\n",
    "    return(final)\n",
    "print (Sfun_2('title'))\n",
    "\n",
    "def Sfun_3(tit='Sharks', num='2'):\n",
    "    tit=input('insert the title: ')\n",
    "    num=input('insert the number: ')\n",
    "    tit=str.title(tit)\n",
    "    final='The number '+ num + ' bestseller today is: '+ tit\n",
    "    return(final)\n",
    "print (Sfun_3())"
   ]
  },
  {
   "cell_type": "markdown",
   "metadata": {},
   "source": [
    "## 5. Password Validation Function \n",
    "Write a password validation function. Ask the user to input a password that meets the criteria listed below. You can either use the **Python** [`input`](https://docs.python.org/3/library/functions.html#input) built-in function, or just pass the password as a function argument. Validate that the user’s password matches this criteria. After 3 bad tries, quit with an error message. If password is valid, print a helpful success message.\n",
    "\n",
    "* password length must be 8-14 characters\n",
    "* password must contain at least 2 digits\n",
    "* password must contain at least 1 uppercase letter\n",
    "* password must contain at least 1 special character from this set !@#$%^&*()-_+=\n",
    "\n",
    "\n",
    "\n",
    "1. Inputs: \n",
    "  1. A `string` that will be tested for the password requirements. The string can be passed as an argument to the function, or as an input through the `input` function.\n",
    "2. Outputs: \n",
    "  1. A **success** message if the password works, otherwise an **error** message. \n"
   ]
  },
  {
   "cell_type": "code",
   "execution_count": 23,
   "metadata": {
    "collapsed": false
   },
   "outputs": [
    {
     "name": "stdout",
     "output_type": "stream",
     "text": [
      "Insert the password (8 to 14 characters and at least: 1 capitol, 2 digits and 1 !@#$%^&*()-_+=): G\n",
      "try again\n",
      "Insert the password (8 to 14 characters and at least: 1 capitol, 2 digits and 1 !@#$%^&*()-_+=): a\n",
      "try again\n",
      "Insert the password (8 to 14 characters and at least: 1 capitol, 2 digits and 1 !@#$%^&*()-_+=): a\n",
      "just 3 tries, sorry\n",
      "a\n"
     ]
    }
   ],
   "source": [
    "import re\n",
    "q='!@#$%^&*()-_+='\n",
    "def Fch(q,xy):\n",
    "    pass_yes=False\n",
    "    maxword=len(xy)\n",
    "    maxlist=len(q)\n",
    "    r=range(0,maxlist)\n",
    "    k=range(0,maxword)\n",
    "    for i in r:\n",
    "        for j in k:\n",
    "            #print (q[i])\n",
    "            #print (xy[j])\n",
    "            if q[i]==xy[j]:\n",
    "                pass_yes= bool(q[i]==xy[j])\n",
    "                #print ('match')\n",
    "                break\n",
    "        if pass_yes==True:\n",
    "            break\n",
    "    return (pass_yes)\n",
    "def Passfun():\n",
    "    R=range(0,3)\n",
    "    for i in R:\n",
    "        pas=input('Insert the password (8 to 14 characters and at least: 1 capitol, 2 digits and 1 !@#$%^&*()-_+=): ')\n",
    "        s = ''.join(j for j in pas if j.isdigit())\n",
    "        if 8<=len(pas) and len(pas)<=14 and bool(re.search('([A-Z])', pas)) and len(s)>=2 and Fch(q,pas): \n",
    "            print ('pass ok')\n",
    "            break\n",
    "        elif i==2:\n",
    "            print ('just 3 tries, sorry')\n",
    "        else:\n",
    "            print ('try again')     \n",
    "    return (pas) \n",
    "print(Passfun())"
   ]
  },
  {
   "cell_type": "markdown",
   "metadata": {},
   "source": [
    "## 6. Exponentiation Function\n",
    "Create a function called **exp** that asks for two digits and then prints an exponentiation, without using the exponentiation operator (`**`). You may assume these are positive integers. Use at least one custom-defined function.\n",
    "\n",
    "For example, some outputs of this function could be:\n",
    "* 2 , 3 => 8\n",
    "* 5 , 4 => 625\n",
    "\n",
    "1. Inputs: \n",
    "  1. An `integer` that will be recursively multiplied\n",
    "  2. An `integer` that will define the number of times to multiply the number to get the exponentiation.\n",
    "2. Outputs: \n",
    "  1. An `integer` that is the result of the exponentiation. \n",
    "\n",
    "`Hint: You can recursively multiply a number. The second number defines the number of times the recursive loop happens. Every time the loop happens, you can redefine the variable that gets multiplied.` "
   ]
  },
  {
   "cell_type": "code",
   "execution_count": 19,
   "metadata": {
    "collapsed": false
   },
   "outputs": [
    {
     "name": "stdout",
     "output_type": "stream",
     "text": [
      "27\n"
     ]
    }
   ],
   "source": [
    "def exp_fun(num,exp):\n",
    "    value=1\n",
    "    r=range(0,exp)\n",
    "    for i in r:\n",
    "        value=value*num\n",
    "    return(value)\n",
    "print(exp_fun(3,3))"
   ]
  },
  {
   "cell_type": "markdown",
   "metadata": {},
   "source": [
    "## 7. Min and Max Functions (Bonus)\n",
    "\n",
    "EXTRA CREDIT\n",
    "\n",
    "Write your own versions of the Python built-in functions **min** and **max**. They should take a list as an argument and return the minimum or maximum element. Assume lists contain numeric items only. \n",
    "\n",
    "1. Inputs: \n",
    "  1. A `list` of `numbers` to be tested. \n",
    "2. Outputs: \n",
    "  1. A `number` of the list that is the maximum or minimum. \n",
    "\n",
    "`Hint: Pick the first element as the minimum(maximum) and then loop through the elements to find a smaller(larger) element. Each time you find a smaller (larger) element, update your minimum (maximum).`"
   ]
  },
  {
   "cell_type": "code",
   "execution_count": null,
   "metadata": {
    "collapsed": false
   },
   "outputs": [],
   "source": [
    "def my_max(x[]):\n",
    "    len(x)"
   ]
  },
  {
   "cell_type": "markdown",
   "metadata": {},
   "source": [
    "## 8. Hangman Game (Bonus)\n",
    "\n",
    "EXTRA CREDIT\n",
    "\n",
    "Implement a basic hangman game through functions.\n",
    "* Show a user the word or phrase (5-15 letters) that they have to guess with dashes as placeholders for unsolved letters. You can hardcode this word into your source.\n",
    "* Prompt the user to guess a letter or solve the puzzle through the user [`input`](https://docs.python.org/3/library/functions.html#input) function. They get up to 8 guesses. After each guess, show the word with any instances of correctly guessed letters filled in. Show the number of tries left. Handle possible issues with user input in a consistent way.\n",
    "* Continue to prompt the user until either they’ve used up their 8 guesses or solved.\n",
    "* If they solve the puzzle in time, show the completed word and a congratulatory message.\n",
    "* If they fail to solve the puzzle, show the completed word and a Game Over message.\n",
    "\n",
    "\n",
    "Here’s a sample transcript.\n",
    "> You have 8 guesses to solve this word. \n",
    "\n",
    ">------------------------------------------   \n",
    "\n",
    ">guess a letter or solve: b \n",
    "\n",
    ">b--b--b--  (7 tries left) \n",
    "\n",
    ">guess a letter or solve: x \n",
    "\n",
    ">b--b--b--  (6 tries left) \n",
    "\n",
    ">guess a letter or solve: e \n",
    "\n",
    ">b--b-ebee  (5 tries left) \n",
    "\n",
    ">guess a letter or solve: bumblebee \n",
    "\n",
    ">bumblebee  (4 tries left) \n",
    "\n",
    ">Congratulations, you won!\n",
    "\n",
    "1. Inputs: \n",
    "  1. A `string` that will be tested to see whether or not it is part of the secret word. \n",
    "2. Outputs: \n",
    "  1. A message that shows the user the number of guessed letters at the time.\n",
    "  2. A **success** message if the user wins, otherwise a **try again** message. \n"
   ]
  },
  {
   "cell_type": "code",
   "execution_count": null,
   "metadata": {
    "collapsed": true
   },
   "outputs": [],
   "source": []
  }
 ],
 "metadata": {
  "kernelspec": {
   "display_name": "Python 3",
   "language": "python",
   "name": "python3"
  },
  "language_info": {
   "codemirror_mode": {
    "name": "ipython",
    "version": 3
   },
   "file_extension": ".py",
   "mimetype": "text/x-python",
   "name": "python",
   "nbconvert_exporter": "python",
   "pygments_lexer": "ipython3",
   "version": "3.6.0"
  }
 },
 "nbformat": 4,
 "nbformat_minor": 0
}
